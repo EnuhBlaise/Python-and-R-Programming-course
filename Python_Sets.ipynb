{
  "nbformat": 4,
  "nbformat_minor": 0,
  "metadata": {
    "colab": {
      "name": "Python Sets.ipynb",
      "provenance": [],
      "authorship_tag": "ABX9TyMzonnyT9G6eSUECEk73kwy",
      "include_colab_link": true
    },
    "kernelspec": {
      "name": "python3",
      "display_name": "Python 3"
    },
    "language_info": {
      "name": "python"
    }
  },
  "cells": [
    {
      "cell_type": "markdown",
      "metadata": {
        "id": "view-in-github",
        "colab_type": "text"
      },
      "source": [
        "<a href=\"https://colab.research.google.com/github/EnuhBlaise/Python-and-R-Programming-course/blob/master/Python_Sets.ipynb\" target=\"_parent\"><img src=\"https://colab.research.google.com/assets/colab-badge.svg\" alt=\"Open In Colab\"/></a>"
      ]
    },
    {
      "cell_type": "markdown",
      "source": [
        "#Definition \n",
        "\n",
        "A set is a collection which is unordered, unchangeable, and unindexed.\n",
        "\n",
        "The major advantage of using a set, as opposed to a list, is that it has a highly optimized method for checking whether a specific element is contained in the set. This is based on a data structure known as a hash table. Since sets are unordered, we cannot access items using indexes like we do in lists.\n",
        "\n",
        "#Uses\n",
        "Basic uses include membership testing and eliminating duplicate entries.\n",
        "\n",
        "The Python sets are highly useful to efficiently remove duplicate values from a collection like a list and to perform common math operations like unions and intersections."
      ],
      "metadata": {
        "id": "ZFVEZr6fHY6C"
      }
    },
    {
      "cell_type": "markdown",
      "source": [
        "#Initializing sets"
      ],
      "metadata": {
        "id": "KImbiVtnJ6O-"
      }
    },
    {
      "cell_type": "code",
      "execution_count": 9,
      "metadata": {
        "colab": {
          "base_uri": "https://localhost:8080/"
        },
        "id": "lWsXNeFeG5Oi",
        "outputId": "4b96d350-fac8-41f9-f681-2528f2199d83"
      },
      "outputs": [
        {
          "output_type": "execute_result",
          "data": {
            "text/plain": [
              "({1, 2, 3}, set)"
            ]
          },
          "metadata": {},
          "execution_count": 9
        }
      ],
      "source": [
        "#examples \n",
        "\n",
        "#Initializing a set\n",
        "\n",
        "S = {1,2,3} \n",
        "S, type(S)"
      ]
    },
    {
      "cell_type": "code",
      "source": [
        "S1 = set([1, 2, 3])\n",
        "S1 , type(S)"
      ],
      "metadata": {
        "colab": {
          "base_uri": "https://localhost:8080/"
        },
        "id": "3olpu5vjI8t3",
        "outputId": "0acf5b26-8d58-4f9e-ca65-34a910da32e6"
      },
      "execution_count": 8,
      "outputs": [
        {
          "output_type": "execute_result",
          "data": {
            "text/plain": [
              "({1, 2, 3}, set)"
            ]
          },
          "metadata": {},
          "execution_count": 8
        }
      ]
    },
    {
      "cell_type": "markdown",
      "source": [
        ""
      ],
      "metadata": {
        "id": "7bWqrb6hKCHD"
      }
    },
    {
      "cell_type": "code",
      "source": [
        "S = {2, 3, 4, 3, 2, 3, 2, 5} # sets do not store duplicate values.\n",
        "S"
      ],
      "metadata": {
        "colab": {
          "base_uri": "https://localhost:8080/"
        },
        "id": "e2g9pDDAJXsc",
        "outputId": "4ecbb374-589c-4dd1-d74b-049b8dfc265a"
      },
      "execution_count": 12,
      "outputs": [
        {
          "output_type": "execute_result",
          "data": {
            "text/plain": [
              "{2, 3, 4, 5}"
            ]
          },
          "metadata": {},
          "execution_count": 12
        }
      ]
    },
    {
      "cell_type": "markdown",
      "source": [
        "#Adding and Updating elements"
      ],
      "metadata": {
        "id": "zn6FvHxFLSDU"
      }
    },
    {
      "cell_type": "code",
      "source": [
        "S.add(10)\n",
        "S"
      ],
      "metadata": {
        "colab": {
          "base_uri": "https://localhost:8080/"
        },
        "id": "CSIpeotOK_e7",
        "outputId": "05efd27e-bd4c-4de1-e29f-4a0bf834bc47"
      },
      "execution_count": 13,
      "outputs": [
        {
          "output_type": "execute_result",
          "data": {
            "text/plain": [
              "{2, 3, 4, 5, 10}"
            ]
          },
          "metadata": {},
          "execution_count": 13
        }
      ]
    },
    {
      "cell_type": "code",
      "source": [
        "S.update([5, 3, 2, 7, 8]) #adding multiple elements in the set in an iterable manner. NB: Duplicate elements are also removed\n",
        "S"
      ],
      "metadata": {
        "colab": {
          "base_uri": "https://localhost:8080/"
        },
        "id": "HBONLwvFLmRF",
        "outputId": "5229e673-a485-4ade-b380-0775ff1297e9"
      },
      "execution_count": 15,
      "outputs": [
        {
          "output_type": "execute_result",
          "data": {
            "text/plain": [
              "{2, 3, 4, 5, 7, 8, 10}"
            ]
          },
          "metadata": {},
          "execution_count": 15
        }
      ]
    },
    {
      "cell_type": "markdown",
      "source": [
        "#Removing and Discarding"
      ],
      "metadata": {
        "id": "K2LduQuoMdx-"
      }
    },
    {
      "cell_type": "code",
      "source": [
        "S.remove(3) #will raise an error in the absence of the element\n",
        "S"
      ],
      "metadata": {
        "colab": {
          "base_uri": "https://localhost:8080/"
        },
        "id": "HD7nv3OLL37e",
        "outputId": "69adaefd-55a4-462c-d4d8-61b160144324"
      },
      "execution_count": 16,
      "outputs": [
        {
          "output_type": "execute_result",
          "data": {
            "text/plain": [
              "{2, 4, 5, 7, 8, 10}"
            ]
          },
          "metadata": {},
          "execution_count": 16
        }
      ]
    },
    {
      "cell_type": "code",
      "source": [
        "S.discard(5) #will not raise an error in the absence of the element\n",
        "S"
      ],
      "metadata": {
        "colab": {
          "base_uri": "https://localhost:8080/"
        },
        "id": "J8lvYXZ0Mn5j",
        "outputId": "ed705ffe-1469-4077-c0e4-6585e3b2194d"
      },
      "execution_count": 18,
      "outputs": [
        {
          "output_type": "execute_result",
          "data": {
            "text/plain": [
              "{2, 4, 7, 8, 10}"
            ]
          },
          "metadata": {},
          "execution_count": 18
        }
      ]
    },
    {
      "cell_type": "markdown",
      "source": [
        "#Unions and Intersections"
      ],
      "metadata": {
        "id": "XVtfWxKtNMtb"
      }
    },
    {
      "cell_type": "code",
      "source": [
        "S2 = S1.union(S)\n",
        "S2"
      ],
      "metadata": {
        "colab": {
          "base_uri": "https://localhost:8080/"
        },
        "id": "2xGJ3vQJMq1d",
        "outputId": "c85c7f5f-2034-4a66-97e2-54206ae95351"
      },
      "execution_count": 20,
      "outputs": [
        {
          "output_type": "execute_result",
          "data": {
            "text/plain": [
              "{1, 2, 3, 4, 7, 8, 10}"
            ]
          },
          "metadata": {},
          "execution_count": 20
        }
      ]
    },
    {
      "cell_type": "code",
      "source": [
        "S3 = S1.intersection(S2)\n",
        "S3"
      ],
      "metadata": {
        "colab": {
          "base_uri": "https://localhost:8080/"
        },
        "id": "HSwN03yxNZg1",
        "outputId": "3981d2d4-e09c-42f7-e98f-23cf5f3fc4ff"
      },
      "execution_count": 22,
      "outputs": [
        {
          "output_type": "execute_result",
          "data": {
            "text/plain": [
              "{1, 2, 3}"
            ]
          },
          "metadata": {},
          "execution_count": 22
        }
      ]
    },
    {
      "cell_type": "code",
      "source": [
        "#another method for intersections\n",
        "S1 & S2"
      ],
      "metadata": {
        "colab": {
          "base_uri": "https://localhost:8080/"
        },
        "id": "TdOFxoyFNzIq",
        "outputId": "7da898fe-b164-4483-8347-3ee86c6498fe"
      },
      "execution_count": 24,
      "outputs": [
        {
          "output_type": "execute_result",
          "data": {
            "text/plain": [
              "{1, 2, 3}"
            ]
          },
          "metadata": {},
          "execution_count": 24
        }
      ]
    },
    {
      "cell_type": "markdown",
      "source": [
        "#Difference and Symmetric Difference"
      ],
      "metadata": {
        "id": "Cc-cW4MUOYKT"
      }
    },
    {
      "cell_type": "code",
      "source": [
        "#returns only elements that are unique to the first set\n",
        "S4 = S2.difference(S1)\n",
        "S4"
      ],
      "metadata": {
        "colab": {
          "base_uri": "https://localhost:8080/"
        },
        "id": "ouvP2xtMORm3",
        "outputId": "817d6ec3-704d-4185-ac99-4c440e07ee5c"
      },
      "execution_count": 27,
      "outputs": [
        {
          "output_type": "execute_result",
          "data": {
            "text/plain": [
              "{4, 7, 8, 10}"
            ]
          },
          "metadata": {},
          "execution_count": 27
        }
      ]
    },
    {
      "cell_type": "code",
      "source": [
        "#returns all elements that are not common between both sets\n",
        "S5 = S2.difference(S1)\n",
        "S5\n"
      ],
      "metadata": {
        "colab": {
          "base_uri": "https://localhost:8080/"
        },
        "id": "v0-JpyM7Osnk",
        "outputId": "2d5da364-8dcf-4212-bc0b-8b33c013a098"
      },
      "execution_count": 31,
      "outputs": [
        {
          "output_type": "execute_result",
          "data": {
            "text/plain": [
              "{4, 7, 8, 10}"
            ]
          },
          "metadata": {},
          "execution_count": 31
        }
      ]
    },
    {
      "cell_type": "code",
      "source": [
        ""
      ],
      "metadata": {
        "id": "lrpCnkRkPF5E"
      },
      "execution_count": null,
      "outputs": []
    }
  ]
}