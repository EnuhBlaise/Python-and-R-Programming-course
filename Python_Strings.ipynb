{
  "nbformat": 4,
  "nbformat_minor": 0,
  "metadata": {
    "colab": {
      "name": "Python_Strings.ipynb",
      "provenance": [],
      "authorship_tag": "ABX9TyN1yLIDxz1WRYJLOdFIQI1x",
      "include_colab_link": true
    },
    "kernelspec": {
      "name": "python3",
      "display_name": "Python 3"
    },
    "language_info": {
      "name": "python"
    }
  },
  "cells": [
    {
      "cell_type": "markdown",
      "metadata": {
        "id": "view-in-github",
        "colab_type": "text"
      },
      "source": [
        "<a href=\"https://colab.research.google.com/github/EnuhBlaise/Python-and-R-Programming-course/blob/master/Python_Strings.ipynb\" target=\"_parent\"><img src=\"https://colab.research.google.com/assets/colab-badge.svg\" alt=\"Open In Colab\"/></a>"
      ]
    },
    {
      "cell_type": "markdown",
      "source": [
        "#Definition\n",
        "\n",
        "These are sequences of characters. They can be any length and can include any character such as letters, numbers, symbols, and whitespace (spaces, tabs, new lines).\n"
      ],
      "metadata": {
        "id": "Cv53GIR-pIC9"
      }
    },
    {
      "cell_type": "markdown",
      "source": [
        "#Creating strings"
      ],
      "metadata": {
        "id": "vcfmC1fds9Zl"
      }
    },
    {
      "cell_type": "code",
      "source": [
        "Seq = \"AGCTCGACCCTAGAGAGACTA\"\n",
        "print(Seq)"
      ],
      "metadata": {
        "colab": {
          "base_uri": "https://localhost:8080/"
        },
        "id": "6gcFxzhSpMUf",
        "outputId": "31b0ee28-c178-4632-fac2-6e223c9114f9"
      },
      "execution_count": 24,
      "outputs": [
        {
          "output_type": "stream",
          "name": "stdout",
          "text": [
            "AGCTCGACCCTAGAGAGACTA\n"
          ]
        }
      ]
    },
    {
      "cell_type": "code",
      "source": [
        "Seq*5"
      ],
      "metadata": {
        "colab": {
          "base_uri": "https://localhost:8080/",
          "height": 36
        },
        "id": "kZKo-3vh1sAZ",
        "outputId": "d1f6e39d-9d55-4db9-dd10-26aed8968657"
      },
      "execution_count": 25,
      "outputs": [
        {
          "output_type": "execute_result",
          "data": {
            "text/plain": [
              "'AGCTCGACCCTAGAGAGACTAAGCTCGACCCTAGAGAGACTAAGCTCGACCCTAGAGAGACTAAGCTCGACCCTAGAGAGACTAAGCTCGACCCTAGAGAGACTA'"
            ],
            "application/vnd.google.colaboratory.intrinsic+json": {
              "type": "string"
            }
          },
          "metadata": {},
          "execution_count": 25
        }
      ]
    },
    {
      "cell_type": "markdown",
      "source": [
        "#Indexing and Slicing "
      ],
      "metadata": {
        "id": "Yx3EBkf3s-Fn"
      }
    },
    {
      "cell_type": "code",
      "source": [
        "Seq.find('GA') #returns the index of the first occurrence"
      ],
      "metadata": {
        "colab": {
          "base_uri": "https://localhost:8080/"
        },
        "id": "8llgBNbapMN4",
        "outputId": "466f220e-45a9-483d-9b9a-d72c74cdb4f0"
      },
      "execution_count": 50,
      "outputs": [
        {
          "output_type": "execute_result",
          "data": {
            "text/plain": [
              "5"
            ]
          },
          "metadata": {},
          "execution_count": 50
        }
      ]
    },
    {
      "cell_type": "markdown",
      "source": [
        "#Accessing string elements"
      ],
      "metadata": {
        "id": "r2U7gQcws--Q"
      }
    },
    {
      "cell_type": "code",
      "source": [
        "Seq[5:10] #Strings found at a particular location"
      ],
      "metadata": {
        "colab": {
          "base_uri": "https://localhost:8080/",
          "height": 36
        },
        "id": "0CvQe7RPpMHN",
        "outputId": "49dd57c5-24f4-4642-8e39-ea4c749b7345"
      },
      "execution_count": 51,
      "outputs": [
        {
          "output_type": "execute_result",
          "data": {
            "text/plain": [
              "'GACCC'"
            ],
            "application/vnd.google.colaboratory.intrinsic+json": {
              "type": "string"
            }
          },
          "metadata": {},
          "execution_count": 51
        }
      ]
    },
    {
      "cell_type": "markdown",
      "source": [
        "#String methods"
      ],
      "metadata": {
        "id": "0UhdIluas_bq"
      }
    },
    {
      "cell_type": "markdown",
      "source": [
        "### Finding the length of a string"
      ],
      "metadata": {
        "id": "nSkpu3_uuB_j"
      }
    },
    {
      "cell_type": "code",
      "source": [
        "len() "
      ],
      "metadata": {
        "id": "nU3TxVQ1pL_v"
      },
      "execution_count": null,
      "outputs": []
    },
    {
      "cell_type": "markdown",
      "source": [
        "###Concatenating strings"
      ],
      "metadata": {
        "id": "X6xdye9us_95"
      }
    },
    {
      "cell_type": "code",
      "source": [
        "Seq1 = \"GGGCCTATAGTC\"\n",
        "Seq2 = Seq + Seq1 # Concatenate two strings\n",
        "print(Seq2)"
      ],
      "metadata": {
        "colab": {
          "base_uri": "https://localhost:8080/"
        },
        "id": "mqEnydWvpL5O",
        "outputId": "e915e362-0e05-442b-cef7-9108bca34488"
      },
      "execution_count": 54,
      "outputs": [
        {
          "output_type": "stream",
          "name": "stdout",
          "text": [
            "AGCTCGACCCTAGAGAGACTAGGGCCTATAGTC\n"
          ]
        }
      ]
    },
    {
      "cell_type": "markdown",
      "source": [
        "###Adding and removing elements"
      ],
      "metadata": {
        "id": "p5keR4IBuVRr"
      }
    },
    {
      "cell_type": "code",
      "source": [
        "#Strings are immutable, therefore elements cannot be added and removed, or replaced with indexing"
      ],
      "metadata": {
        "id": "sT8IR3M1uStx"
      },
      "execution_count": null,
      "outputs": []
    },
    {
      "cell_type": "markdown",
      "source": [
        "###Formatting and using placeholders"
      ],
      "metadata": {
        "id": "wUWYNXV8u15R"
      }
    },
    {
      "cell_type": "code",
      "source": [
        "#The Python string method .format() replaces empty brace ({}) placeholders in the string with its arguments.\n",
        "greeting = \" I am {} and I love playing {} as a hobby\"\n",
        "greeting.format(\"John\", \"basketball\")"
      ],
      "metadata": {
        "colab": {
          "base_uri": "https://localhost:8080/",
          "height": 36
        },
        "id": "c0YbmZZsuSjW",
        "outputId": "a0ac6b24-f2dc-43f2-b471-270000cbfebf"
      },
      "execution_count": 1,
      "outputs": [
        {
          "output_type": "execute_result",
          "data": {
            "text/plain": [
              "' I am John and I love playing basketball as a hobby'"
            ],
            "application/vnd.google.colaboratory.intrinsic+json": {
              "type": "string"
            }
          },
          "metadata": {},
          "execution_count": 1
        }
      ]
    },
    {
      "cell_type": "code",
      "source": [
        "name = \"John\"\n",
        "hobby = \"basketball\"\n",
        "greeting = \" I am {} and I love playing {} as a hobby\"\n",
        "greeting.format(name, hobby)"
      ],
      "metadata": {
        "colab": {
          "base_uri": "https://localhost:8080/",
          "height": 36
        },
        "id": "CnHMr6vWuSY3",
        "outputId": "05c9f049-0c7f-432f-d466-47dd2bd6d484"
      },
      "execution_count": 3,
      "outputs": [
        {
          "output_type": "execute_result",
          "data": {
            "text/plain": [
              "' I am John and I love playing basketball as a hobby'"
            ],
            "application/vnd.google.colaboratory.intrinsic+json": {
              "type": "string"
            }
          },
          "metadata": {},
          "execution_count": 3
        }
      ]
    },
    {
      "cell_type": "code",
      "source": [
        "#A shorthand method\n",
        "print(f\" I am {name} and I love playing {hobby} as a hobby\")"
      ],
      "metadata": {
        "colab": {
          "base_uri": "https://localhost:8080/"
        },
        "id": "8akMTOZ6uSSg",
        "outputId": "48e0c0e8-abf1-448b-d9bd-21162c7e8b43"
      },
      "execution_count": 34,
      "outputs": [
        {
          "output_type": "stream",
          "name": "stdout",
          "text": [
            " I am John and I love playing basketball as a hobby\n"
          ]
        }
      ]
    },
    {
      "cell_type": "markdown",
      "source": [
        "###Case methods"
      ],
      "metadata": {
        "id": "doSos8-SwI-Z"
      }
    },
    {
      "cell_type": "code",
      "source": [
        "#Lower case methods\n",
        "Seq = \"AGCTCGACCCTAGAGAGACTA\"\n",
        "Seq.lower()"
      ],
      "metadata": {
        "colab": {
          "base_uri": "https://localhost:8080/",
          "height": 36
        },
        "id": "HEwK4Oy5uSLZ",
        "outputId": "8b42639d-6d93-4774-dc95-f47a45aa6b69"
      },
      "execution_count": 4,
      "outputs": [
        {
          "output_type": "execute_result",
          "data": {
            "text/plain": [
              "'agctcgaccctagagagacta'"
            ],
            "application/vnd.google.colaboratory.intrinsic+json": {
              "type": "string"
            }
          },
          "metadata": {},
          "execution_count": 4
        }
      ]
    },
    {
      "cell_type": "code",
      "source": [
        "Seq.upper()"
      ],
      "metadata": {
        "colab": {
          "base_uri": "https://localhost:8080/",
          "height": 36
        },
        "id": "uKXbjgiBuSEz",
        "outputId": "6f1c3ce9-01b1-47a8-e953-cf909dc79b02"
      },
      "execution_count": 6,
      "outputs": [
        {
          "output_type": "execute_result",
          "data": {
            "text/plain": [
              "'AGCTCGACCCTAGAGAGACTA'"
            ],
            "application/vnd.google.colaboratory.intrinsic+json": {
              "type": "string"
            }
          },
          "metadata": {},
          "execution_count": 6
        }
      ]
    },
    {
      "cell_type": "code",
      "source": [
        "Seq2 = \"i am a boy\"\n",
        "Seq2.title() #Capitalize the first letter of each word\n",
        "#Seq.title() "
      ],
      "metadata": {
        "colab": {
          "base_uri": "https://localhost:8080/",
          "height": 36
        },
        "id": "JeZiVeMuxy6B",
        "outputId": "2296c473-5870-45ab-c5f5-8f206064310b"
      },
      "execution_count": 11,
      "outputs": [
        {
          "output_type": "execute_result",
          "data": {
            "text/plain": [
              "'I Am A Boy'"
            ],
            "application/vnd.google.colaboratory.intrinsic+json": {
              "type": "string"
            }
          },
          "metadata": {},
          "execution_count": 11
        }
      ]
    },
    {
      "cell_type": "markdown",
      "source": [
        "###Removing Characters"
      ],
      "metadata": {
        "id": "l9o2kLsQwvTP"
      }
    },
    {
      "cell_type": "code",
      "source": [
        "# .strip method can be used to remove characters from the beginning and end of the string.\n",
        "\n",
        "Seq.strip(\"A\")"
      ],
      "metadata": {
        "colab": {
          "base_uri": "https://localhost:8080/",
          "height": 36
        },
        "id": "PsW6FEVnuR9z",
        "outputId": "a00b72cb-6759-4771-8f82-8376ebe0d761"
      },
      "execution_count": 9,
      "outputs": [
        {
          "output_type": "execute_result",
          "data": {
            "text/plain": [
              "'GCTCGACCCTAGAGAGACT'"
            ],
            "application/vnd.google.colaboratory.intrinsic+json": {
              "type": "string"
            }
          },
          "metadata": {},
          "execution_count": 9
        }
      ]
    },
    {
      "cell_type": "markdown",
      "source": [
        "###Spliting "
      ],
      "metadata": {
        "id": "GhGaDZPzxpX1"
      }
    },
    {
      "cell_type": "code",
      "source": [
        "Seq.split()#splits based on whitespace when no argument\n",
        "#Seq2.split()\n",
        "\n",
        "#Seq.split(\"A\")\n",
        "#or\n",
        "Seq.split(sep = \"A\")\n",
        "\n",
        "#Other split arguments \"\\t\", \"\\n\", \" \", \"-\", \".\""
      ],
      "metadata": {
        "colab": {
          "base_uri": "https://localhost:8080/"
        },
        "id": "78WjCiajuRkV",
        "outputId": "22cb72c3-4c1b-4b78-8100-c9b32908e813"
      },
      "execution_count": 26,
      "outputs": [
        {
          "output_type": "execute_result",
          "data": {
            "text/plain": [
              "['', 'GCTCG', 'CCCT', 'G', 'G', 'G', 'CT', '']"
            ]
          },
          "metadata": {},
          "execution_count": 26
        }
      ]
    },
    {
      "cell_type": "code",
      "source": [
        ""
      ],
      "metadata": {
        "id": "RUC5nRQb9IyQ"
      },
      "execution_count": null,
      "outputs": []
    },
    {
      "cell_type": "markdown",
      "source": [
        "###Finding elements"
      ],
      "metadata": {
        "id": "-ebdwQcayyl9"
      }
    },
    {
      "cell_type": "code",
      "source": [
        "Seq.find(\"C\") #Returns the idex of the first occurence of the element"
      ],
      "metadata": {
        "colab": {
          "base_uri": "https://localhost:8080/"
        },
        "id": "D9wkjYT2uRd3",
        "outputId": "4442b91a-ad55-497c-ab04-64631f8912bc"
      },
      "execution_count": 17,
      "outputs": [
        {
          "output_type": "execute_result",
          "data": {
            "text/plain": [
              "2"
            ]
          },
          "metadata": {},
          "execution_count": 17
        }
      ]
    },
    {
      "cell_type": "markdown",
      "source": [
        "###Replacing elements"
      ],
      "metadata": {
        "id": "EDijL0zkzTy8"
      }
    },
    {
      "cell_type": "code",
      "source": [
        "Seq.replace(\"T\", \"U\") #replaces the occurence of the first argument with the second argument.\n"
      ],
      "metadata": {
        "colab": {
          "base_uri": "https://localhost:8080/",
          "height": 36
        },
        "id": "_NDMUbllzTEm",
        "outputId": "5b65557a-7749-464b-95f9-a80c64d47d32"
      },
      "execution_count": 18,
      "outputs": [
        {
          "output_type": "execute_result",
          "data": {
            "text/plain": [
              "'AGCUCGACCCUAGAGAGACUA'"
            ],
            "application/vnd.google.colaboratory.intrinsic+json": {
              "type": "string"
            }
          },
          "metadata": {},
          "execution_count": 18
        }
      ]
    },
    {
      "cell_type": "markdown",
      "source": [
        "###Joining strings"
      ],
      "metadata": {
        "id": "qNd6Si5Pzy94"
      }
    },
    {
      "cell_type": "code",
      "source": [
        "Seq.join([\"CRISPR\", \"CRISPR\", \"CRISPR\"])"
      ],
      "metadata": {
        "colab": {
          "base_uri": "https://localhost:8080/",
          "height": 36
        },
        "id": "sxsyqRdIuRXI",
        "outputId": "f356a508-bdb8-4c37-82d9-e2563dd49d37"
      },
      "execution_count": 19,
      "outputs": [
        {
          "output_type": "execute_result",
          "data": {
            "text/plain": [
              "'CRISPRAGCTCGACCCTAGAGAGACTACRISPRAGCTCGACCCTAGAGAGACTACRISPR'"
            ],
            "application/vnd.google.colaboratory.intrinsic+json": {
              "type": "string"
            }
          },
          "metadata": {},
          "execution_count": 19
        }
      ]
    },
    {
      "cell_type": "code",
      "source": [
        "\"---\".join([Seq, Seq, Seq])"
      ],
      "metadata": {
        "colab": {
          "base_uri": "https://localhost:8080/",
          "height": 36
        },
        "id": "jpYeoCPnuRRt",
        "outputId": "76ed37af-012d-4890-8ab2-bb9a6262b292"
      },
      "execution_count": 21,
      "outputs": [
        {
          "output_type": "execute_result",
          "data": {
            "text/plain": [
              "'AGCTCGACCCTAGAGAGACTA---AGCTCGACCCTAGAGAGACTA---AGCTCGACCCTAGAGAGACTA'"
            ],
            "application/vnd.google.colaboratory.intrinsic+json": {
              "type": "string"
            }
          },
          "metadata": {},
          "execution_count": 21
        }
      ]
    },
    {
      "cell_type": "markdown",
      "source": [
        "###Reversing"
      ],
      "metadata": {
        "id": "t0zMDT1n2QB4"
      }
    },
    {
      "cell_type": "code",
      "source": [
        "Seq[::-1]"
      ],
      "metadata": {
        "colab": {
          "base_uri": "https://localhost:8080/",
          "height": 36
        },
        "id": "IPCVVnCHuRLS",
        "outputId": "db7c5bcc-595a-422d-e857-cff3649335d9"
      },
      "execution_count": 29,
      "outputs": [
        {
          "output_type": "execute_result",
          "data": {
            "text/plain": [
              "'ATCAGAGAGATCCCAGCTCGA'"
            ],
            "application/vnd.google.colaboratory.intrinsic+json": {
              "type": "string"
            }
          },
          "metadata": {},
          "execution_count": 29
        }
      ]
    },
    {
      "cell_type": "code",
      "source": [
        "#Escaping Characters\n",
        "#Backslashes (\\) are used to escape characters in a Python string.\n",
        "\n",
        "#To print a string with quotation marks, the given code snippet can be used.\n",
        "\n",
        "msg = \" String \\\"s\\\" in a string \"\n",
        "print(msg)"
      ],
      "metadata": {
        "colab": {
          "base_uri": "https://localhost:8080/"
        },
        "id": "MSt8dtlQuRFm",
        "outputId": "f6f01a5f-27b4-4424-c638-442526af53bb"
      },
      "execution_count": 23,
      "outputs": [
        {
          "output_type": "stream",
          "name": "stdout",
          "text": [
            " String \"s\" in a string \n"
          ]
        }
      ]
    },
    {
      "cell_type": "markdown",
      "source": [
        "###Counting"
      ],
      "metadata": {
        "id": "FUKHrxSb20ZJ"
      }
    },
    {
      "cell_type": "code",
      "source": [
        "Seq.count(\"G\")"
      ],
      "metadata": {
        "colab": {
          "base_uri": "https://localhost:8080/"
        },
        "id": "uh2ufcfOuQ-c",
        "outputId": "b75dd874-d75f-47a6-d59a-dc3e63ea077c"
      },
      "execution_count": 31,
      "outputs": [
        {
          "output_type": "execute_result",
          "data": {
            "text/plain": [
              "5"
            ]
          },
          "metadata": {},
          "execution_count": 31
        }
      ]
    },
    {
      "cell_type": "code",
      "source": [
        "(Seq.count(\"G\")/Seq.count(\"A\")) *100 #For example GC content"
      ],
      "metadata": {
        "colab": {
          "base_uri": "https://localhost:8080/"
        },
        "id": "kTHpiAuluQ4y",
        "outputId": "f08358e8-b8dc-464e-a101-20dde9e309b7"
      },
      "execution_count": 32,
      "outputs": [
        {
          "output_type": "execute_result",
          "data": {
            "text/plain": [
              "71.42857142857143"
            ]
          },
          "metadata": {},
          "execution_count": 32
        }
      ]
    },
    {
      "cell_type": "code",
      "source": [
        "# some cool advanced counting \n",
        "from collections import Counter\n",
        "\n",
        "Counter(Seq) #provides the count of all individual elements in the string"
      ],
      "metadata": {
        "colab": {
          "base_uri": "https://localhost:8080/"
        },
        "id": "H-qWnAtquQxd",
        "outputId": "85b899dd-a8d8-46f8-f338-a2e8556f633e"
      },
      "execution_count": 33,
      "outputs": [
        {
          "output_type": "execute_result",
          "data": {
            "text/plain": [
              "Counter({'A': 7, 'C': 6, 'G': 5, 'T': 3})"
            ]
          },
          "metadata": {},
          "execution_count": 33
        }
      ]
    },
    {
      "cell_type": "markdown",
      "source": [
        "#Using Regular Expressions"
      ],
      "metadata": {
        "id": "cudyyTi_pODW"
      }
    },
    {
      "cell_type": "code",
      "source": [
        "import re #re is the regular expressions package.\n",
        "\n",
        "\"\"\"\n",
        "p = re.compile(pattern) #compile search query\n",
        "p.search(text) #search for all matches\n",
        "p.sub(sub , text) #substitute match with sub\n",
        ". #any one character\n",
        "* #repeat previous 0 or more times\n",
        "+ #repeat previous 1 or more times\n",
        "? #repeat previous 0 or 1 times\n",
        "\\d #any digit\n",
        "\\s #any white space\n",
        "[abc ] #any character in this set {a,b,c}\n",
        "[ ^ abc ] #any character * not * in this set\n",
        "[a- z ] #any letter between a and z\n",
        "a | b a #or b\n",
        "\n",
        "\"\"\""
      ],
      "metadata": {
        "id": "YDhUECh_pLZk"
      },
      "execution_count": null,
      "outputs": []
    },
    {
      "cell_type": "markdown",
      "source": [
        "###Example\n",
        "\n",
        "###Finding patterns with Regular expressions"
      ],
      "metadata": {
        "id": "QdwiiuxN4hFP"
      }
    },
    {
      "cell_type": "code",
      "source": [
        "import re\n",
        "text = 'hello my phone number is (000)-111-2222'\n",
        "pattern = 'phone'\n",
        "re.search(pattern, text) #Find the index where a pattern is and report what the pattern is."
      ],
      "metadata": {
        "colab": {
          "base_uri": "https://localhost:8080/"
        },
        "id": "wC5d617b4l3E",
        "outputId": "2d702a90-45e7-4b3b-b69d-ab6efce7b29b"
      },
      "execution_count": 36,
      "outputs": [
        {
          "output_type": "execute_result",
          "data": {
            "text/plain": [
              "<re.Match object; span=(9, 14), match='phone'>"
            ]
          },
          "metadata": {},
          "execution_count": 36
        }
      ]
    },
    {
      "cell_type": "code",
      "source": [
        "#Using wildcards \n",
        "text = \"Bacillus_megaterium Bacillus_subtilis Bacillus_anthracis Acidithiobacillus_ferroxidans\"\n",
        "\n",
        "re.findall(\"Acidithiobacillus.*\", text) #find an elements without knowing the complete words "
      ],
      "metadata": {
        "colab": {
          "base_uri": "https://localhost:8080/"
        },
        "id": "aPMjPR-g4nds",
        "outputId": "f8c5ba2d-285b-4fc5-85d7-b5a0c94295f8"
      },
      "execution_count": 48,
      "outputs": [
        {
          "output_type": "execute_result",
          "data": {
            "text/plain": [
              "['Acidithiobacillus_ferroxidans']"
            ]
          },
          "metadata": {},
          "execution_count": 48
        }
      ]
    },
    {
      "cell_type": "code",
      "source": [
        ""
      ],
      "metadata": {
        "id": "TYzAsqeZ6rwi"
      },
      "execution_count": null,
      "outputs": []
    }
  ]
}