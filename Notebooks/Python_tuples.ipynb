{
  "nbformat": 4,
  "nbformat_minor": 0,
  "metadata": {
    "colab": {
      "name": "Python tuples.ipynb",
      "provenance": [],
      "authorship_tag": "ABX9TyNHc4mBGEd/O7KU+GpwCrgR",
      "include_colab_link": true
    },
    "kernelspec": {
      "name": "python3",
      "display_name": "Python 3"
    },
    "language_info": {
      "name": "python"
    }
  },
  "cells": [
    {
      "cell_type": "markdown",
      "metadata": {
        "id": "view-in-github",
        "colab_type": "text"
      },
      "source": [
        "<a href=\"https://colab.research.google.com/github/EnuhBlaise/Python-and-R-Programming-course/blob/master/Python_tuples.ipynb\" target=\"_parent\"><img src=\"https://colab.research.google.com/assets/colab-badge.svg\" alt=\"Open In Colab\"/></a>"
      ]
    },
    {
      "cell_type": "markdown",
      "source": [
        "#Definition\n",
        " A tuple is a collection which is ordered and unchangeable.\n",
        "#Uses\n",
        "\n",
        "When your data should or does not need to be changed.\n",
        "\n",
        "Tuples are faster than lists. We should use a Tuple instead of a List if we are defining a constant set of values and all we are ever going to do with it is iterate through it.\n",
        "When we need an array of elements to be used as dictionary keys, we can use Tuples."
      ],
      "metadata": {
        "id": "sHZk3HWGSm2W"
      }
    },
    {
      "cell_type": "markdown",
      "source": [
        ""
      ],
      "metadata": {
        "id": "TIsvgajYTgpZ"
      }
    },
    {
      "cell_type": "markdown",
      "source": [
        "#Creating Tuples"
      ],
      "metadata": {
        "id": "aFng_YBwUiIM"
      }
    },
    {
      "cell_type": "code",
      "execution_count": 4,
      "metadata": {
        "colab": {
          "base_uri": "https://localhost:8080/"
        },
        "id": "GxeoMW-wShxC",
        "outputId": "18edbf98-1f7a-4210-d146-abd43895f99c"
      },
      "outputs": [
        {
          "output_type": "execute_result",
          "data": {
            "text/plain": [
              "(1, 2, 3, 4, 5, 6, 7, 8, 9)"
            ]
          },
          "metadata": {},
          "execution_count": 4
        }
      ],
      "source": [
        "#initialize tuples with()\n",
        "T = (1, 2, 3, 4, 5, 6, 7, 8, 9)\n",
        "T"
      ]
    },
    {
      "cell_type": "code",
      "source": [
        "T1 = 3,6,7,9, #when writing elements seperated with just commas, a tuple is automatically created, Also known as tuple packing\n",
        "T1\n",
        "#type(T1)"
      ],
      "metadata": {
        "colab": {
          "base_uri": "https://localhost:8080/"
        },
        "id": "sgqsrHHBV95-",
        "outputId": "ee363093-cf6c-42a9-d4f3-7ef54918e4e8"
      },
      "execution_count": 11,
      "outputs": [
        {
          "output_type": "execute_result",
          "data": {
            "text/plain": [
              "tuple"
            ]
          },
          "metadata": {},
          "execution_count": 11
        }
      ]
    },
    {
      "cell_type": "code",
      "source": [
        "#random elements\n",
        "T2 = \"AGC\", (4, 7), 9.1, [\"a\", 7]\n",
        "T2 \n",
        "#T2[3]"
      ],
      "metadata": {
        "colab": {
          "base_uri": "https://localhost:8080/"
        },
        "id": "LXcujLDWZFgg",
        "outputId": "9aecc887-7619-473e-c849-86e36062e4ff"
      },
      "execution_count": 13,
      "outputs": [
        {
          "output_type": "execute_result",
          "data": {
            "text/plain": [
              "['a', 7]"
            ]
          },
          "metadata": {},
          "execution_count": 13
        }
      ]
    },
    {
      "cell_type": "code",
      "source": [
        "#Using the tuple() method\n",
        "T3 = tuple([\"a\", 4])\n",
        "T3"
      ],
      "metadata": {
        "colab": {
          "base_uri": "https://localhost:8080/"
        },
        "id": "2IsstEz9aJGe",
        "outputId": "043249c6-16e9-4a8e-8166-008e6dcb24d5"
      },
      "execution_count": 15,
      "outputs": [
        {
          "output_type": "execute_result",
          "data": {
            "text/plain": [
              "('a', 4)"
            ]
          },
          "metadata": {},
          "execution_count": 15
        }
      ]
    },
    {
      "cell_type": "markdown",
      "source": [
        "#Indexing"
      ],
      "metadata": {
        "id": "zacVhdQIVABr"
      }
    },
    {
      "cell_type": "code",
      "source": [
        "T[2]"
      ],
      "metadata": {
        "colab": {
          "base_uri": "https://localhost:8080/"
        },
        "id": "O0Tp4kq7UxbE",
        "outputId": "fb33d5cd-9778-49b0-80af-26b8211e82be"
      },
      "execution_count": 5,
      "outputs": [
        {
          "output_type": "execute_result",
          "data": {
            "text/plain": [
              "3"
            ]
          },
          "metadata": {},
          "execution_count": 5
        }
      ]
    },
    {
      "cell_type": "code",
      "source": [
        "T[2:5]"
      ],
      "metadata": {
        "colab": {
          "base_uri": "https://localhost:8080/"
        },
        "id": "cGvifulZVG5v",
        "outputId": "342866c3-f9ed-464a-b4c2-fa7cc433b181"
      },
      "execution_count": 7,
      "outputs": [
        {
          "output_type": "execute_result",
          "data": {
            "text/plain": [
              "(3, 4, 5)"
            ]
          },
          "metadata": {},
          "execution_count": 7
        }
      ]
    },
    {
      "cell_type": "code",
      "source": [
        "#Cannot use indexing to assign to a tuple because they are immutable\n",
        "T[0] = 3"
      ],
      "metadata": {
        "id": "SlzZvUy0VVoS"
      },
      "execution_count": null,
      "outputs": []
    },
    {
      "cell_type": "code",
      "source": [
        "#Further indexing options\n",
        "\n",
        "#print(T[2:])\n",
        "#print(T[:2]) \n",
        "#print(T[-3:]) \n",
        "#print(T[:-3]) \n",
        "#print(T[1:4])"
      ],
      "metadata": {
        "colab": {
          "base_uri": "https://localhost:8080/"
        },
        "id": "nqNkVXwiVkJF",
        "outputId": "9e5fa400-0c41-482f-dd3a-61de538cfd4e"
      },
      "execution_count": 20,
      "outputs": [
        {
          "output_type": "stream",
          "name": "stdout",
          "text": [
            "(2, 3, 4)\n"
          ]
        }
      ]
    },
    {
      "cell_type": "markdown",
      "source": [
        "#Concatenating Tuples"
      ],
      "metadata": {
        "id": "wNgl5NoEboX-"
      }
    },
    {
      "cell_type": "code",
      "source": [
        "T3 = T + T2 \n",
        "T3"
      ],
      "metadata": {
        "colab": {
          "base_uri": "https://localhost:8080/"
        },
        "id": "R6ugnGqMbEOe",
        "outputId": "6a7cc4bd-ed2d-46f2-b13f-24aac38f1f1f"
      },
      "execution_count": 21,
      "outputs": [
        {
          "output_type": "execute_result",
          "data": {
            "text/plain": [
              "(1, 2, 3, 4, 5, 6, 7, 8, 9, 'AGC', (4, 7), 9.1, ['a', 7])"
            ]
          },
          "metadata": {},
          "execution_count": 21
        }
      ]
    },
    {
      "cell_type": "markdown",
      "source": [
        "#Immutability"
      ],
      "metadata": {
        "id": "VnM7xL-kcGy0"
      }
    },
    {
      "cell_type": "code",
      "source": [
        "#Error is raised because of immutability\n",
        "T[0] = 100 \n",
        "del T[0]"
      ],
      "metadata": {
        "id": "yFeZAYqHb7c2"
      },
      "execution_count": null,
      "outputs": []
    },
    {
      "cell_type": "markdown",
      "source": [
        "#Looping through tuples"
      ],
      "metadata": {
        "id": "FktFyvQ2c9uQ"
      }
    },
    {
      "cell_type": "code",
      "source": [
        "for integer in T:\n",
        "  print(integer)"
      ],
      "metadata": {
        "colab": {
          "base_uri": "https://localhost:8080/"
        },
        "id": "VjwHemD2chh0",
        "outputId": "a529c493-a5f3-4a42-f49b-7776af6957d0"
      },
      "execution_count": 22,
      "outputs": [
        {
          "output_type": "stream",
          "name": "stdout",
          "text": [
            "1\n",
            "2\n",
            "3\n",
            "4\n",
            "5\n",
            "6\n",
            "7\n",
            "8\n",
            "9\n"
          ]
        }
      ]
    },
    {
      "cell_type": "markdown",
      "source": [
        "#Checking the presence of an element"
      ],
      "metadata": {
        "id": "AeDnlKVedUv5"
      }
    },
    {
      "cell_type": "code",
      "source": [
        "T = 1, 2, 3,\n",
        "#print(1 in T)\n",
        "#print(5 in T)"
      ],
      "metadata": {
        "colab": {
          "base_uri": "https://localhost:8080/"
        },
        "id": "GsT0qMf0dKwP",
        "outputId": "9c45bd69-4731-416f-ebc8-67b7871de591"
      },
      "execution_count": 24,
      "outputs": [
        {
          "output_type": "stream",
          "name": "stdout",
          "text": [
            "False\n"
          ]
        }
      ]
    },
    {
      "cell_type": "markdown",
      "source": [
        "#Packing and Unpacking"
      ],
      "metadata": {
        "id": "DMHvARTyeNrx"
      }
    },
    {
      "cell_type": "code",
      "source": [
        "#Packing\n",
        "T = 1, 2, 3,\n",
        "T"
      ],
      "metadata": {
        "colab": {
          "base_uri": "https://localhost:8080/"
        },
        "id": "SwgSMSKxdl1Y",
        "outputId": "5df148d1-abb5-4239-8be2-0418cf1ba0c1"
      },
      "execution_count": 25,
      "outputs": [
        {
          "output_type": "execute_result",
          "data": {
            "text/plain": [
              "(1, 2, 3)"
            ]
          },
          "metadata": {},
          "execution_count": 25
        }
      ]
    },
    {
      "cell_type": "code",
      "source": [
        "#Unpacking  NB: Must have same number of elements as the variables to be assigned\n",
        "a, b, c = T\n",
        "a"
      ],
      "metadata": {
        "colab": {
          "base_uri": "https://localhost:8080/"
        },
        "id": "0rtnz43leieM",
        "outputId": "dda6bde7-4966-4d7f-9cb7-4c55a146ada6"
      },
      "execution_count": 28,
      "outputs": [
        {
          "output_type": "execute_result",
          "data": {
            "text/plain": [
              "1"
            ]
          },
          "metadata": {},
          "execution_count": 28
        }
      ]
    },
    {
      "cell_type": "code",
      "source": [
        "#Discuss this more in lists. \n",
        "#How to loop over multiple lists\n",
        "\n",
        "Item = ['bread', 'chair', 'beans', 'pen']\n",
        "cost = [100, 50, 80, 40]\n",
        "\n",
        "for element, price in zip(Item, cost):\n",
        "    print(f'The {element} costs ${price}')"
      ],
      "metadata": {
        "colab": {
          "base_uri": "https://localhost:8080/"
        },
        "id": "H2txvB3zelpQ",
        "outputId": "f0af5d76-4496-4ae2-b631-18682c27e2f1"
      },
      "execution_count": 31,
      "outputs": [
        {
          "output_type": "stream",
          "name": "stdout",
          "text": [
            "The bread costs $100\n",
            "The chair costs $50\n",
            "The beans costs $80\n",
            "The pen costs $40\n"
          ]
        }
      ]
    },
    {
      "cell_type": "code",
      "source": [
        ""
      ],
      "metadata": {
        "id": "vmuGF5LNhBpj"
      },
      "execution_count": null,
      "outputs": []
    }
  ]
}
