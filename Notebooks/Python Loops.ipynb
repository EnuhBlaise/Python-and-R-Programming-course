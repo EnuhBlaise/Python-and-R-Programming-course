{
 "cells": [
  {
   "cell_type": "markdown",
   "metadata": {},
   "source": [
    "# For Loops"
   ]
  },
  {
   "cell_type": "code",
   "execution_count": 9,
   "metadata": {},
   "outputs": [],
   "source": [
    "import string"
   ]
  },
  {
   "cell_type": "code",
   "execution_count": 16,
   "metadata": {},
   "outputs": [
    {
     "name": "stdout",
     "output_type": "stream",
     "text": [
      "ALEX\n"
     ]
    }
   ],
   "source": [
    "\n",
    "#For loops enable us to iterate over items in a list and perform operations on individual items.\n",
    "#All computations carried out are temporary within each cycle of the loop\n",
    "\n",
    "#Defining for loops\n",
    "\n",
    "Names = [\"Sam\", \"Alex\", \"John\", \"Mary\", \"Ali\", \"Rex\"]\n",
    "\n",
    "for name in Names:\n",
    "    if name == \"Alex\":\n",
    "        x= name.upper() \n",
    "        print(x)"
   ]
  },
  {
   "cell_type": "code",
   "execution_count": 2,
   "metadata": {},
   "outputs": [
    {
     "name": "stdout",
     "output_type": "stream",
     "text": [
      "Sam\n",
      "Ali\n",
      "Rex\n"
     ]
    }
   ],
   "source": [
    "#Using Loops with conditional statements and continue\n",
    "#the continue keyword is used inside a loop to skip the remaining code inside the loop code block if the condition is satisfied\n",
    "\n",
    "for name in Names: #Skips those that fulfil the condition but prints those that do not\n",
    "    if len(name)>3:\n",
    "        continue\n",
    "    print(name)"
   ]
  },
  {
   "cell_type": "code",
   "execution_count": 10,
   "metadata": {},
   "outputs": [
    {
     "name": "stdout",
     "output_type": "stream",
     "text": [
      "['jack', 'Mike', 'Harvey']\n"
     ]
    }
   ],
   "source": [
    "#Using Loops with conditional statements and break\n",
    "# n a loop, the break keyword escapes the loop, regardless of the iteration number. \n",
    "#Once break executes, the program will continue to execute after the loop.\n",
    "\n",
    "\n",
    "\n",
    "for name in Names: \n",
    "    if len(name)>3:\n",
    "        break\n",
    "    print(name)"
   ]
  },
  {
   "cell_type": "code",
   "execution_count": 5,
   "metadata": {},
   "outputs": [
    {
     "name": "stdout",
     "output_type": "stream",
     "text": [
      "0\n",
      "1\n",
      "2\n",
      "3\n",
      "4\n",
      "I love dancing\n",
      "I love dancing\n",
      "I love dancing\n",
      "I love dancing\n",
      "I love dancing\n",
      "I love dancing\n",
      "I love dancing\n"
     ]
    }
   ],
   "source": [
    "#specifying the number of times we want the loop run\n",
    "#This can be done using the range function or using the length of the variable to be looped over\n",
    "\n",
    "\n",
    "#NB, it is possible through wrong code to write a loop that is infinite. In this case, \n",
    "#To interrupt a Python program that is running forever, \n",
    "#press the Ctrl and C keys together on your keyboard.\n",
    "\n",
    "\n",
    "for i in range(5):\n",
    "    print(i)\n",
    "    \n",
    "#or\n",
    "for i in range(7):\n",
    "    print(\"I love dancing\")"
   ]
  },
  {
   "cell_type": "markdown",
   "metadata": {},
   "source": [
    "# Nested Loops"
   ]
  },
  {
   "cell_type": "code",
   "execution_count": 6,
   "metadata": {},
   "outputs": [
    {
     "name": "stdout",
     "output_type": "stream",
     "text": [
      "jack\n",
      "Mike\n",
      "Harvey\n",
      "A\n",
      "l\n",
      "e\n",
      "x\n",
      "J\n",
      "o\n",
      "h\n",
      "n\n",
      "M\n",
      "a\n",
      "r\n",
      "y\n",
      "A\n",
      "l\n",
      "i\n",
      "R\n",
      "e\n",
      "x\n"
     ]
    }
   ],
   "source": [
    "#Nested loops can be used to access items of lists which are inside other lists. \n",
    "\n",
    "Team1 = [\"jack\", \"Mike\", \"Harvey\"]\n",
    "Names[0] = Team1\n",
    "for name in Names:\n",
    "    for i in name:\n",
    "        print(i)"
   ]
  },
  {
   "cell_type": "markdown",
   "metadata": {},
   "source": [
    "# While Loops"
   ]
  },
  {
   "cell_type": "code",
   "execution_count": 18,
   "metadata": {},
   "outputs": [
    {
     "name": "stdout",
     "output_type": "stream",
     "text": [
      " This is a check\n"
     ]
    }
   ],
   "source": [
    "# A while loop will repeatedly execute a code block as long as a condition evaluates to True. \n",
    "\n",
    "Time = 20\n",
    "while Time <= 50:\n",
    "    print(\" This is a check\")\n",
    "    Time +=5 #Create an incremental contion to enable the loop stop at one point. "
   ]
  },
  {
   "cell_type": "markdown",
   "metadata": {},
   "source": [
    "# List Comprehensions"
   ]
  },
  {
   "cell_type": "code",
   "execution_count": 11,
   "metadata": {},
   "outputs": [
    {
     "name": "stdout",
     "output_type": "stream",
     "text": [
      "[0, 4, 16, 36, 64]\n"
     ]
    }
   ],
   "source": [
    "#ython list comprehensions provide a concise way for creating lists. \n",
    "#It consists of brackets containing an expression followed by a for clause, \n",
    "#then zero or more for or if clauses: [EXPRESSION for ITEM in LIST <if CONDITIONAL>].\n",
    "# A list comprehension wil return atlead\n",
    "\n",
    "result = [x**2 for x in range(10) if x % 2 == 0]\n",
    " \n",
    "print(result)"
   ]
  },
  {
   "cell_type": "code",
   "execution_count": null,
   "metadata": {},
   "outputs": [],
   "source": []
  }
 ],
 "metadata": {
  "kernelspec": {
   "display_name": "Python 3",
   "language": "python",
   "name": "python3"
  },
  "language_info": {
   "codemirror_mode": {
    "name": "ipython",
    "version": 3
   },
   "file_extension": ".py",
   "mimetype": "text/x-python",
   "name": "python",
   "nbconvert_exporter": "python",
   "pygments_lexer": "ipython3",
   "version": "3.7.6"
  }
 },
 "nbformat": 4,
 "nbformat_minor": 4
}
