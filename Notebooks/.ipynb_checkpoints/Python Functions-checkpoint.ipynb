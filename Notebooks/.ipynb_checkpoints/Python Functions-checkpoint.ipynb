{
 "cells": [
  {
   "cell_type": "markdown",
   "metadata": {},
   "source": [
    "# Definition"
   ]
  },
  {
   "cell_type": "code",
   "execution_count": 8,
   "metadata": {},
   "outputs": [],
   "source": [
    "#Functions in python enable the users to automate a series of tasks without having to rewrite the code each time\n",
    "#Functions may require inputs usually defined as parameters to be passed in the function (this can be one or more)\n",
    "\n",
    "#NOTE: The structure, keywords, identation, and formatting is very important in making code blocks\n",
    "\n",
    "def Menu(Food, price):\n",
    "    print(f'You ordered {Food} and it will cost you ${price}. Enjoy your meal at our restaurant' )\n",
    "\n",
    "Menu(\"Rice\", 100)\n",
    "\n",
    "\n",
    "\n",
    "\n",
    "def multiplication(x, y):\n",
    "    z = x*y\n",
    "    print(z)\n",
    "\n",
    "multiplication(5, 5)\n",
    "\n"
   ]
  },
  {
   "cell_type": "markdown",
   "metadata": {},
   "source": [
    "# Using Keyword arguments"
   ]
  },
  {
   "cell_type": "code",
   "execution_count": 18,
   "metadata": {},
   "outputs": [
    {
     "name": "stdout",
     "output_type": "stream",
     "text": [
      "You ordered Rice and it will cost you $250. Enjoy your meal at our restaurant\n"
     ]
    }
   ],
   "source": [
    "#Using this option allows parameters to be passed in a function without any specific order as the option above.\n",
    "#This allows you to define values for parameters in the function as defaults if the user does not enter any value in its stead.\n",
    "\n",
    "\n",
    "def Rice_Menu(Food, price=250):\n",
    "    print(f'You ordered {Food} and it will cost you ${price}. Enjoy your meal at our restaurant' )\n",
    "\n",
    "Rice_Menu(\"Rice\")"
   ]
  },
  {
   "cell_type": "markdown",
   "metadata": {},
   "source": [
    "# Returning several results"
   ]
  },
  {
   "cell_type": "code",
   "execution_count": 22,
   "metadata": {},
   "outputs": [
    {
     "name": "stdout",
     "output_type": "stream",
     "text": [
      "You ordered Rice and it will cost you $250.\n",
      "\n",
      "    This will include $50 for drinks, $100 for desert, and $75 for sauce.\n",
      "\n",
      "    Your total bill will be $475.\n",
      "\n",
      "    Enjoy your meal at our restaurant\n"
     ]
    }
   ],
   "source": [
    "def Rice_Bill(Food, price=250):\n",
    "    Drinks = 50\n",
    "    Desert = 100\n",
    "    Sauce = 75\n",
    "    print(f\"\"\"You ordered {Food} and it will cost you ${price}.\\n\n",
    "    This will include ${Drinks} for drinks, ${Desert} for desert, and ${Sauce} for sauce.\\n\n",
    "    Your total bill will be ${Drinks + Desert+Sauce+price}.\\n\n",
    "    Enjoy your meal at our restaurant\"\"\")\n",
    "\n",
    "Rice_Bill(\"Rice\")"
   ]
  },
  {
   "cell_type": "markdown",
   "metadata": {},
   "source": [
    "# Variable Scope"
   ]
  },
  {
   "cell_type": "code",
   "execution_count": 25,
   "metadata": {},
   "outputs": [
    {
     "name": "stdout",
     "output_type": "stream",
     "text": [
      "20\n",
      "5\n"
     ]
    }
   ],
   "source": [
    "#In Python, a variable defined inside a function is called a LOCAL variable. This is in contrast to Global variables \n",
    "#It cannot be used outside of the scope of the function, and attempting to do so \n",
    "#without defining the variable outside of the function will cause an error.\n",
    "\n",
    "x = 20\n",
    " \n",
    "def number(x):\n",
    "  x = 5\n",
    "  print(x)\n",
    "  \n",
    "print(x)   # the original value of x will be printed\n",
    "number(x)       # The variable of x withing the function will be returned\n",
    "\n",
    "\n",
    "\n",
    "\n",
    "\n",
    "\n"
   ]
  },
  {
   "cell_type": "code",
   "execution_count": 32,
   "metadata": {},
   "outputs": [
    {
     "name": "stdout",
     "output_type": "stream",
     "text": [
      "24\n"
     ]
    }
   ],
   "source": [
    "#Global variables can be accessed in and out of a function but local variables can only be accessed in a function\n",
    "\n",
    "y = 20\n",
    " \n",
    "def func(x):\n",
    "  print(x+y)\n",
    "\n",
    "func(4)\n",
    "\n",
    "#NB it is important to be careful about changes in the global variable that is being used in a function."
   ]
  },
  {
   "cell_type": "markdown",
   "metadata": {},
   "source": [
    "# Returning values from a function"
   ]
  },
  {
   "cell_type": "code",
   "execution_count": 26,
   "metadata": {},
   "outputs": [
    {
     "data": {
      "text/plain": [
       "'2028 is a leap year.'"
      ]
     },
     "execution_count": 26,
     "metadata": {},
     "output_type": "execute_result"
    }
   ],
   "source": [
    "#the return function can be used to return values computed from a function. this can then be captured in variable and used \n",
    "#in other codes.\n",
    "def check_leap_year(year): \n",
    "  if year % 4 == 0:\n",
    "    return str(year) + \" is a leap year.\"\n",
    "  else:\n",
    "    return str(year) + \" is not a leap year.\"\n",
    "check_leap_year(2028)"
   ]
  },
  {
   "cell_type": "code",
   "execution_count": 27,
   "metadata": {},
   "outputs": [],
   "source": [
    "Answer = check_leap_year(2028) # the response can be stored in a variable"
   ]
  },
  {
   "cell_type": "code",
   "execution_count": 29,
   "metadata": {},
   "outputs": [
    {
     "name": "stdout",
     "output_type": "stream",
     "text": [
      "5\n"
     ]
    }
   ],
   "source": []
  },
  {
   "cell_type": "code",
   "execution_count": 30,
   "metadata": {},
   "outputs": [],
   "source": []
  },
  {
   "cell_type": "code",
   "execution_count": null,
   "metadata": {},
   "outputs": [],
   "source": []
  }
 ],
 "metadata": {
  "kernelspec": {
   "display_name": "Python 3",
   "language": "python",
   "name": "python3"
  },
  "language_info": {
   "codemirror_mode": {
    "name": "ipython",
    "version": 3
   },
   "file_extension": ".py",
   "mimetype": "text/x-python",
   "name": "python",
   "nbconvert_exporter": "python",
   "pygments_lexer": "ipython3",
   "version": "3.7.6"
  }
 },
 "nbformat": 4,
 "nbformat_minor": 4
}
