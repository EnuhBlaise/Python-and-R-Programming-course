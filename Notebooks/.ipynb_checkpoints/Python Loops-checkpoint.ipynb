{
 "cells": [
  {
   "cell_type": "markdown",
   "metadata": {},
   "source": [
    "# For Loops"
   ]
  },
  {
   "cell_type": "code",
   "execution_count": 2,
   "metadata": {},
   "outputs": [
    {
     "name": "stdout",
     "output_type": "stream",
     "text": [
      "Sam\n",
      "Alex\n",
      "John\n",
      "Mary\n",
      "Ali\n",
      "Rex\n"
     ]
    }
   ],
   "source": [
    "#For loops enable us to iterate over items in a list and perform operations on individual items.\n",
    "#All computations carried out are temporary within each cycle of the loop\n",
    "\n",
    "#Defining for loops\n",
    "\n",
    "Names = [\"Sam\", \"Alex\", \"John\", \"Mary\", \"Ali\", \"Rex\"]\n",
    "\n",
    "for name in Names:\n",
    "    print (name)"
   ]
  },
  {
   "cell_type": "code",
   "execution_count": 3,
   "metadata": {},
   "outputs": [
    {
     "name": "stdout",
     "output_type": "stream",
     "text": [
      "Sam\n",
      "Ali\n",
      "Rex\n"
     ]
    }
   ],
   "source": [
    "#Using Loops with conditional statements and continue\n",
    "#the continue keyword is used inside a loop to skip the remaining code inside the loop code block if the condition is satisfied\n",
    "\n",
    "for name in Names: #Skips those that fulfil the condition but prints those that do not\n",
    "    if len(name)>3:\n",
    "        continue\n",
    "    print(name)"
   ]
  },
  {
   "cell_type": "code",
   "execution_count": 5,
   "metadata": {},
   "outputs": [
    {
     "name": "stdout",
     "output_type": "stream",
     "text": [
      "0\n",
      "1\n",
      "2\n",
      "3\n",
      "4\n",
      "I love dancing\n",
      "I love dancing\n",
      "I love dancing\n",
      "I love dancing\n",
      "I love dancing\n",
      "I love dancing\n",
      "I love dancing\n"
     ]
    }
   ],
   "source": [
    "#specifying the number of times we want the loop run\n",
    "#This can be done using the range function or using the length of the variable to be looped over\n",
    "\n",
    "\n",
    "#NB, it is possible through wrong code to write a loop that is infinite. In this case, \n",
    "#To interrupt a Python program that is running forever, \n",
    "#press the Ctrl and C keys together on your keyboard.\n",
    "\n",
    "\n",
    "for i in range(5):\n",
    "    print(i)\n",
    "    \n",
    "#or\n",
    "for i in range(7):\n",
    "    print(\"I love dancing\")"
   ]
  },
  {
   "cell_type": "code",
   "execution_count": null,
   "metadata": {},
   "outputs": [],
   "source": []
  }
 ],
 "metadata": {
  "kernelspec": {
   "display_name": "Python 3",
   "language": "python",
   "name": "python3"
  },
  "language_info": {
   "codemirror_mode": {
    "name": "ipython",
    "version": 3
   },
   "file_extension": ".py",
   "mimetype": "text/x-python",
   "name": "python",
   "nbconvert_exporter": "python",
   "pygments_lexer": "ipython3",
   "version": "3.7.6"
  }
 },
 "nbformat": 4,
 "nbformat_minor": 4
}
